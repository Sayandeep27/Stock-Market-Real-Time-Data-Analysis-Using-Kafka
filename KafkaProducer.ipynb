{
  "nbformat": 4,
  "nbformat_minor": 0,
  "metadata": {
    "colab": {
      "provenance": [],
      "authorship_tag": "ABX9TyNusE8GDv69mGZJ7NLW1Z2h",
      "include_colab_link": true
    },
    "kernelspec": {
      "name": "python3",
      "display_name": "Python 3"
    },
    "language_info": {
      "name": "python"
    }
  },
  "cells": [
    {
      "cell_type": "markdown",
      "metadata": {
        "id": "view-in-github",
        "colab_type": "text"
      },
      "source": [
        "<a href=\"https://colab.research.google.com/github/Sayandeep27/Stock-Market-Real-Time-Data-Analysis-Using-Kafka/blob/main/KafkaProducer.ipynb\" target=\"_parent\"><img src=\"https://colab.research.google.com/assets/colab-badge.svg\" alt=\"Open In Colab\"/></a>"
      ]
    },
    {
      "cell_type": "code",
      "execution_count": null,
      "metadata": {
        "id": "wfocJB5qjMav"
      },
      "outputs": [],
      "source": [
        "pip install kafka-python"
      ]
    },
    {
      "cell_type": "code",
      "source": [
        "import pandas as pd\n",
        "from kafka import KafkaProducer  # This line imports the KafkaProducer class from the kafka library. KafkaProducer is used to send (produce) messages to Kafka topics.\n",
        "from time import sleep  # This line imports the sleep function from the time library. sleep is used to pause the execution of the program for a specified amount of time.\n",
        "from json import dumps # This line imports the dumps function from the json library. dumps converts Python objects into JSON format, which is a common format for exchanging data.\n",
        "import json"
      ],
      "metadata": {
        "id": "8j1pdLTujSy3"
      },
      "execution_count": null,
      "outputs": []
    },
    {
      "cell_type": "code",
      "source": [
        "producer = KafkaProducer(bootstrap_servers=[':9092'], #change ip here\n",
        "                         value_serializer=lambda x:\n",
        "                         dumps(x).encode('utf-8'))"
      ],
      "metadata": {
        "id": "H3dAzQuqjS1L"
      },
      "execution_count": null,
      "outputs": []
    },
    {
      "cell_type": "code",
      "source": [
        "'''\n",
        "producer = KafkaProducer(bootstrap_servers=[':9092']\n",
        "This creates a KafkaProducer object named producer. The bootstrap_servers parameter specifies the Kafka server’s address. In this case, ':9092' is a placeholder for the server address and port where Kafka is running (you should replace ':9092' with the actual address and port of your Kafka server).\n",
        "\n",
        "\n",
        "value_serializer=lambda x: dumps(x).encode('utf-8')\n",
        "This part defines how to convert (serialize) the data before sending it to Kafka.\n",
        "\n",
        "lambda x: dumps(x).encode('utf-8') is a function that takes data (x), converts it to JSON format using dumps(x), and then encodes it to UTF-8 format so it can be sent over the network.\n",
        "\n",
        "'''"
      ],
      "metadata": {
        "id": "yH4fNZoDjxls"
      },
      "execution_count": null,
      "outputs": []
    },
    {
      "cell_type": "code",
      "source": [
        "producer.send('demo_test', value={'surnasdasdame':'parasdasdmar'})\n",
        "\n",
        "'''\n",
        "producer.send(): Sends a message to a Kafka topic.\n",
        "'demo_test': The topic name where the message will go.\n",
        "value={'surnasdasdame':'parasdasdmar'}: The content of the message being sent.\n",
        "'''"
      ],
      "metadata": {
        "id": "Epz9Us3qjS3q"
      },
      "execution_count": null,
      "outputs": []
    },
    {
      "cell_type": "code",
      "source": [
        "df = pd.read_csv(\"data/indexProcessed.csv\")"
      ],
      "metadata": {
        "id": "avaceGwtjS5_"
      },
      "execution_count": null,
      "outputs": []
    },
    {
      "cell_type": "code",
      "source": [
        "df.head()"
      ],
      "metadata": {
        "id": "jukwMJmsjS8F"
      },
      "execution_count": null,
      "outputs": []
    },
    {
      "cell_type": "code",
      "source": [
        "while True:\n",
        "    dict_stock = df.sample(1).to_dict(orient=\"records\")[0]\n",
        "    producer.send('demo_test', value=dict_stock)\n",
        "    sleep(1)\n",
        "\n",
        "\n",
        "'''\n",
        "Infinite Loop: Continuously runs the code inside it.\n",
        "df.sample(1).to_dict(orient=\"records\")[0]: Picks a random row from the DataFrame and converts it to a dictionary.\n",
        "producer.send('demo_test', value=dict_stock): Sends this dictionary to a Kafka topic.\n",
        "sleep(1): Waits for 1 second before repeating the process.\n",
        "'''"
      ],
      "metadata": {
        "id": "DhlaCztEjS-H"
      },
      "execution_count": null,
      "outputs": []
    },
    {
      "cell_type": "code",
      "source": [
        "producer.flush()  # producer.flush(): Sends all pending messages in the producer’s buffer to the Kafka server, ensuring no data is left unsent."
      ],
      "metadata": {
        "id": "1RaBcqLQjTAG"
      },
      "execution_count": null,
      "outputs": []
    },
    {
      "cell_type": "code",
      "source": [],
      "metadata": {
        "id": "8LMYZxuljTDr"
      },
      "execution_count": null,
      "outputs": []
    }
  ]
}